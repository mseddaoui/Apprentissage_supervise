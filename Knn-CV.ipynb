{
 "cells": [
  {
   "cell_type": "code",
   "execution_count": 5,
   "id": "3f93a474",
   "metadata": {},
   "outputs": [],
   "source": [
    "import numpy as np\n",
    "import pandas as pd\n",
    "import matplotlib.pyplot as plt\n",
    "import seaborn as sns\n",
    "\n",
    "# Charger les données\n",
    "heart_df =  pd.read_table(\"heart.dat\", sep=\"\\s+\")\n",
    "heart_df.head()\n",
    "heart_dfx = heart_df.iloc[:,:13]\n",
    "heart_dfy = heart_df.iloc[:,13:14]\n"
   ]
  },
  {
   "cell_type": "code",
   "execution_count": 12,
   "id": "e36636b5",
   "metadata": {},
   "outputs": [],
   "source": [
    "from sklearn.preprocessing import StandardScaler\n",
    "from sklearn.model_selection import train_test_split\n",
    "scaler = StandardScaler()\n",
    "scaled_Xtrain = scaler.fit_transform(heart_dfx)\n",
    "\n",
    "X_train,X_test,Y_train,Y_test = train_test_split(scaled_Xtrain, heart_dfy, train_size=0.70,stratify=heart_dfy)"
   ]
  },
  {
   "cell_type": "code",
   "execution_count": 31,
   "id": "a785c3ef",
   "metadata": {},
   "outputs": [
    {
     "name": "stdout",
     "output_type": "stream",
     "text": [
      "KNeighborsClassifier(n_neighbors=20)\n",
      "\n",
      "0.8246088193456614\n",
      "Résultats de validation sur l'ensemble des paramètres: \n",
      "\n",
      "0.756 (+/-0.129) for {'n_neighbors': 1}\n",
      "0.820 (+/-0.115) for {'n_neighbors': 5}\n",
      "0.819 (+/-0.038) for {'n_neighbors': 10}\n",
      "0.819 (+/-0.038) for {'n_neighbors': 15}\n",
      "0.825 (+/-0.062) for {'n_neighbors': 20}\n",
      "0.819 (+/-0.061) for {'n_neighbors': 25}\n",
      "\n",
      "              precision    recall  f1-score   support\n",
      "\n",
      "           1       0.84      0.96      0.90        45\n",
      "           2       0.93      0.78      0.85        36\n",
      "\n",
      "    accuracy                           0.88        81\n",
      "   macro avg       0.89      0.87      0.87        81\n",
      "weighted avg       0.88      0.88      0.87        81\n",
      "\n",
      "Matrice de confusion: \n",
      "\n",
      "\n"
     ]
    },
    {
     "data": {
      "image/png": "[encoded data removed]",
      "text/plain": [
       "<Figure size 432x288 with 2 Axes>"
      ]
     },
     "metadata": {
      "needs_background": "light"
     },
     "output_type": "display_data"
    }
   ],
   "source": [
    "from sklearn.model_selection import GridSearchCV\n",
    "from sklearn.neighbors import KNeighborsClassifier\n",
    "from sklearn.metrics import classification_report, confusion_matrix, accuracy_score,roc_auc_score\n",
    "\n",
    "params = {\"n_neighbors\": [1,5,10,15,20,25]}\n",
    "clf = GridSearchCV(KNeighborsClassifier(),params,cv=5, scoring=\"accuracy\")\n",
    "clf.fit(X_train, Y_train.values.ravel())\n",
    "print(clf.best_estimator_)\n",
    "print()\n",
    "print(clf.best_score_)\n",
    "\n",
    "print(\"Résultats de validation sur l'ensemble des paramètres: \")\n",
    "print()\n",
    "means = clf.cv_results_[\"mean_test_score\"]\n",
    "stds = clf.cv_results_[\"std_test_score\"]\n",
    "for mean, std, params in zip(means, stds, clf.cv_results_[\"params\"]):\n",
    "    print(\"%0.3f (+/-%0.03f) for %r\" % (mean, std * 2, params))\n",
    "print()    \n",
    "\n",
    "y_pred = clf.best_estimator_.predict(X_test)\n",
    "print(classification_report(Y_test, y_pred))\n",
    "\n",
    "print(\"Matrice de confusion: \")\n",
    "print()       \n",
    "y_pred = clf.best_estimator_.predict(X_test)\n",
    "cf_matrix_test = confusion_matrix(Y_test, y_pred)\n",
    "sns.heatmap(cf_matrix_test, annot=True)\n",
    "print()"
   ]
  },
  {
   "cell_type": "code",
   "execution_count": null,
   "id": "506f3b10",
   "metadata": {},
   "outputs": [],
   "source": []
  }
 ],
 "metadata": {
  "kernelspec": {
   "display_name": "Python 3 (ipykernel)",
   "language": "python",
   "name": "python3"
  },
  "language_info": {
   "codemirror_mode": {
    "name": "ipython",
    "version": 3
   },
   "file_extension": ".py",
   "mimetype": "text/x-python",
   "name": "python",
   "nbconvert_exporter": "python",
   "pygments_lexer": "ipython3",
   "version": "3.8.12"
  }
 },
 "nbformat": 4,
 "nbformat_minor": 5
}
